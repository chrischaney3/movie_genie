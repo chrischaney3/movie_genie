{
 "cells": [
  {
   "cell_type": "code",
   "execution_count": 1,
   "id": "a6164357",
   "metadata": {},
   "outputs": [],
   "source": [
    "#Dependencies needed for python file:\n",
    "import numpy as np\n",
    "import pandas as pd\n",
    "import difflib\n",
    "from sklearn.feature_extraction.text import TfidfVectorizer\n",
    "from sklearn.metrics.pairwise import cosine_similarity\n"
   ]
  },
  {
   "cell_type": "code",
   "execution_count": 2,
   "id": "c115cc27",
   "metadata": {},
   "outputs": [
    {
     "name": "stderr",
     "output_type": "stream",
     "text": [
      "C:\\Users\\Chris\\anaconda3\\envs\\PythonData\\lib\\site-packages\\IPython\\core\\interactiveshell.py:3186: DtypeWarning: Columns (10) have mixed types.Specify dtype option on import or set low_memory=False.\n",
      "  interactivity=interactivity, compiler=compiler, result=result)\n"
     ]
    }
   ],
   "source": [
    "# Create the variable to read the csv.\n",
    "filepath = (\"Data/movie_genie_df.csv\")\n",
    "movies_data = pd.read_csv(filepath)"
   ]
  },
  {
   "cell_type": "code",
   "execution_count": 3,
   "id": "7bfc6203",
   "metadata": {},
   "outputs": [],
   "source": [
    "movies_data.reset_index(inplace=True)\n"
   ]
  },
  {
   "cell_type": "code",
   "execution_count": 4,
   "id": "4f553424",
   "metadata": {},
   "outputs": [
    {
     "data": {
      "text/html": [
       "<div>\n",
       "<style scoped>\n",
       "    .dataframe tbody tr th:only-of-type {\n",
       "        vertical-align: middle;\n",
       "    }\n",
       "\n",
       "    .dataframe tbody tr th {\n",
       "        vertical-align: top;\n",
       "    }\n",
       "\n",
       "    .dataframe thead th {\n",
       "        text-align: right;\n",
       "    }\n",
       "</style>\n",
       "<table border=\"1\" class=\"dataframe\">\n",
       "  <thead>\n",
       "    <tr style=\"text-align: right;\">\n",
       "      <th></th>\n",
       "      <th>index</th>\n",
       "      <th>cast_characters</th>\n",
       "      <th>cast_credit_ids</th>\n",
       "      <th>cast_profile_paths</th>\n",
       "      <th>crew_director_names</th>\n",
       "      <th>crew_executive_producers</th>\n",
       "      <th>budget</th>\n",
       "      <th>genres</th>\n",
       "      <th>id</th>\n",
       "      <th>imdb_id</th>\n",
       "      <th>overview</th>\n",
       "      <th>popularity</th>\n",
       "      <th>poster_path</th>\n",
       "      <th>production_companies</th>\n",
       "      <th>production_countries</th>\n",
       "      <th>release_date</th>\n",
       "      <th>title</th>\n",
       "      <th>vote_average</th>\n",
       "      <th>vote_count</th>\n",
       "      <th>cleaned_keywords</th>\n",
       "    </tr>\n",
       "  </thead>\n",
       "  <tbody>\n",
       "    <tr>\n",
       "      <th>0</th>\n",
       "      <td>0</td>\n",
       "      <td>['Woody (voice)', 'Buzz Lightyear (voice)', 'M...</td>\n",
       "      <td>['52fe4284c3a36847f8024f95', '52fe4284c3a36847...</td>\n",
       "      <td>['/pQFoyx7rp09CJTAb932F2g8Nlho.jpg', '/uX2xVf6...</td>\n",
       "      <td>['John Lasseter']</td>\n",
       "      <td>['Ed Catmull', 'Steve Jobs']</td>\n",
       "      <td>30000000</td>\n",
       "      <td>[{'id': 16, 'name': 'Animation'}, {'id': 35, '...</td>\n",
       "      <td>862</td>\n",
       "      <td>tt0114709</td>\n",
       "      <td>Led by Woody, Andy's toys live happily in his ...</td>\n",
       "      <td>21.9469</td>\n",
       "      <td>/rhIRbceoE9lR4veEXuwCC2wARtG.jpg</td>\n",
       "      <td>[{'name': 'Pixar Animation Studios', 'id': 3}]</td>\n",
       "      <td>[{'iso_3166_1': 'US', 'name': 'United States o...</td>\n",
       "      <td>10/30/95</td>\n",
       "      <td>Toy Story</td>\n",
       "      <td>7.7</td>\n",
       "      <td>5415.0</td>\n",
       "      <td>jealousy, toy, boy, friendship, friends, rival...</td>\n",
       "    </tr>\n",
       "    <tr>\n",
       "      <th>1</th>\n",
       "      <td>1</td>\n",
       "      <td>['Alan Parrish', 'Samuel Alan Parrish / Van Pe...</td>\n",
       "      <td>['52fe44bfc3a36847f80a7c73', '52fe44bfc3a36847...</td>\n",
       "      <td>['/sojtJyIV3lkUeThD7A2oHNm8183.jpg', '/7il5D76...</td>\n",
       "      <td>['Joe Johnston']</td>\n",
       "      <td>['Larry J. Franco', 'Ted Field', 'Robert W. Co...</td>\n",
       "      <td>65000000</td>\n",
       "      <td>[{'id': 12, 'name': 'Adventure'}, {'id': 14, '...</td>\n",
       "      <td>8844</td>\n",
       "      <td>tt0113497</td>\n",
       "      <td>When siblings Judy and Peter discover an encha...</td>\n",
       "      <td>17.0155</td>\n",
       "      <td>/vzmL6fP7aPKNKPRTFnZmiUfciyV.jpg</td>\n",
       "      <td>[{'name': 'TriStar Pictures', 'id': 559}, {'na...</td>\n",
       "      <td>[{'iso_3166_1': 'US', 'name': 'United States o...</td>\n",
       "      <td>12/15/95</td>\n",
       "      <td>Jumanji</td>\n",
       "      <td>6.9</td>\n",
       "      <td>2413.0</td>\n",
       "      <td>board, game, disappearance, based, on, childre...</td>\n",
       "    </tr>\n",
       "    <tr>\n",
       "      <th>2</th>\n",
       "      <td>2</td>\n",
       "      <td>['Max Goldman', 'John Gustafson', 'Ariel Gusta...</td>\n",
       "      <td>['52fe466a9251416c75077a8d', '52fe466a9251416c...</td>\n",
       "      <td>['/xJVkvprOnzP5Zdh5y63y8HHniDZ.jpg', '/chZmNRY...</td>\n",
       "      <td>['Howard Deutch']</td>\n",
       "      <td>[]</td>\n",
       "      <td>0</td>\n",
       "      <td>[{'id': 10749, 'name': 'Romance'}, {'id': 35, ...</td>\n",
       "      <td>15602</td>\n",
       "      <td>tt0113228</td>\n",
       "      <td>A family wedding reignites the ancient feud be...</td>\n",
       "      <td>11.7129</td>\n",
       "      <td>/6ksm1sjKMFLbO7UY2i6G1ju9SML.jpg</td>\n",
       "      <td>[{'name': 'Warner Bros.', 'id': 6194}, {'name'...</td>\n",
       "      <td>[{'iso_3166_1': 'US', 'name': 'United States o...</td>\n",
       "      <td>12/22/95</td>\n",
       "      <td>Grumpier Old Men</td>\n",
       "      <td>6.5</td>\n",
       "      <td>92.0</td>\n",
       "      <td>fishing, best, friend, duringcreditsstinger, o...</td>\n",
       "    </tr>\n",
       "    <tr>\n",
       "      <th>3</th>\n",
       "      <td>3</td>\n",
       "      <td>[\"Savannah 'Vannah' Jackson\", \"Bernadine 'Bern...</td>\n",
       "      <td>['52fe44779251416c91011aad', '52fe44779251416c...</td>\n",
       "      <td>['/69ouDnXnmklYPr4sMJXWKYz81AL.jpg', '/tHkgSzh...</td>\n",
       "      <td>['Forest Whitaker']</td>\n",
       "      <td>['Terry McMillan']</td>\n",
       "      <td>16000000</td>\n",
       "      <td>[{'id': 35, 'name': 'Comedy'}, {'id': 18, 'nam...</td>\n",
       "      <td>31357</td>\n",
       "      <td>tt0114885</td>\n",
       "      <td>Cheated on, mistreated and stepped on, the wom...</td>\n",
       "      <td>3.85949</td>\n",
       "      <td>/16XOMpEaLWkrcPqSQqhTmeJuqQl.jpg</td>\n",
       "      <td>[{'name': 'Twentieth Century Fox Film Corporat...</td>\n",
       "      <td>[{'iso_3166_1': 'US', 'name': 'United States o...</td>\n",
       "      <td>12/22/95</td>\n",
       "      <td>Waiting to Exhale</td>\n",
       "      <td>6.1</td>\n",
       "      <td>34.0</td>\n",
       "      <td>based, on, novel, interracial, relationship, s...</td>\n",
       "    </tr>\n",
       "    <tr>\n",
       "      <th>4</th>\n",
       "      <td>4</td>\n",
       "      <td>['George Banks', 'Nina Banks', 'Franck Eggelho...</td>\n",
       "      <td>['52fe44959251416c75039eb9', '52fe44959251416c...</td>\n",
       "      <td>['/rI2EMvkfKKPKa5z0nM2pFVBtUyO.jpg', '/fzgUMnb...</td>\n",
       "      <td>['Charles Shyer']</td>\n",
       "      <td>[]</td>\n",
       "      <td>0</td>\n",
       "      <td>[{'id': 35, 'name': 'Comedy'}]</td>\n",
       "      <td>11862</td>\n",
       "      <td>tt0113041</td>\n",
       "      <td>Just when George Banks has recovered from his ...</td>\n",
       "      <td>8.38752</td>\n",
       "      <td>/e64sOI48hQXyru7naBFyssKFxVd.jpg</td>\n",
       "      <td>[{'name': 'Sandollar Productions', 'id': 5842}...</td>\n",
       "      <td>[{'iso_3166_1': 'US', 'name': 'United States o...</td>\n",
       "      <td>2/10/95</td>\n",
       "      <td>Father of the Bride Part II</td>\n",
       "      <td>5.7</td>\n",
       "      <td>173.0</td>\n",
       "      <td>baby, midlife, crisis, confidence, aging, daug...</td>\n",
       "    </tr>\n",
       "  </tbody>\n",
       "</table>\n",
       "</div>"
      ],
      "text/plain": [
       "   index                                    cast_characters  \\\n",
       "0      0  ['Woody (voice)', 'Buzz Lightyear (voice)', 'M...   \n",
       "1      1  ['Alan Parrish', 'Samuel Alan Parrish / Van Pe...   \n",
       "2      2  ['Max Goldman', 'John Gustafson', 'Ariel Gusta...   \n",
       "3      3  [\"Savannah 'Vannah' Jackson\", \"Bernadine 'Bern...   \n",
       "4      4  ['George Banks', 'Nina Banks', 'Franck Eggelho...   \n",
       "\n",
       "                                     cast_credit_ids  \\\n",
       "0  ['52fe4284c3a36847f8024f95', '52fe4284c3a36847...   \n",
       "1  ['52fe44bfc3a36847f80a7c73', '52fe44bfc3a36847...   \n",
       "2  ['52fe466a9251416c75077a8d', '52fe466a9251416c...   \n",
       "3  ['52fe44779251416c91011aad', '52fe44779251416c...   \n",
       "4  ['52fe44959251416c75039eb9', '52fe44959251416c...   \n",
       "\n",
       "                                  cast_profile_paths  crew_director_names  \\\n",
       "0  ['/pQFoyx7rp09CJTAb932F2g8Nlho.jpg', '/uX2xVf6...    ['John Lasseter']   \n",
       "1  ['/sojtJyIV3lkUeThD7A2oHNm8183.jpg', '/7il5D76...     ['Joe Johnston']   \n",
       "2  ['/xJVkvprOnzP5Zdh5y63y8HHniDZ.jpg', '/chZmNRY...    ['Howard Deutch']   \n",
       "3  ['/69ouDnXnmklYPr4sMJXWKYz81AL.jpg', '/tHkgSzh...  ['Forest Whitaker']   \n",
       "4  ['/rI2EMvkfKKPKa5z0nM2pFVBtUyO.jpg', '/fzgUMnb...    ['Charles Shyer']   \n",
       "\n",
       "                            crew_executive_producers    budget  \\\n",
       "0                       ['Ed Catmull', 'Steve Jobs']  30000000   \n",
       "1  ['Larry J. Franco', 'Ted Field', 'Robert W. Co...  65000000   \n",
       "2                                                 []         0   \n",
       "3                                 ['Terry McMillan']  16000000   \n",
       "4                                                 []         0   \n",
       "\n",
       "                                              genres     id    imdb_id  \\\n",
       "0  [{'id': 16, 'name': 'Animation'}, {'id': 35, '...    862  tt0114709   \n",
       "1  [{'id': 12, 'name': 'Adventure'}, {'id': 14, '...   8844  tt0113497   \n",
       "2  [{'id': 10749, 'name': 'Romance'}, {'id': 35, ...  15602  tt0113228   \n",
       "3  [{'id': 35, 'name': 'Comedy'}, {'id': 18, 'nam...  31357  tt0114885   \n",
       "4                     [{'id': 35, 'name': 'Comedy'}]  11862  tt0113041   \n",
       "\n",
       "                                            overview popularity  \\\n",
       "0  Led by Woody, Andy's toys live happily in his ...    21.9469   \n",
       "1  When siblings Judy and Peter discover an encha...    17.0155   \n",
       "2  A family wedding reignites the ancient feud be...    11.7129   \n",
       "3  Cheated on, mistreated and stepped on, the wom...    3.85949   \n",
       "4  Just when George Banks has recovered from his ...    8.38752   \n",
       "\n",
       "                        poster_path  \\\n",
       "0  /rhIRbceoE9lR4veEXuwCC2wARtG.jpg   \n",
       "1  /vzmL6fP7aPKNKPRTFnZmiUfciyV.jpg   \n",
       "2  /6ksm1sjKMFLbO7UY2i6G1ju9SML.jpg   \n",
       "3  /16XOMpEaLWkrcPqSQqhTmeJuqQl.jpg   \n",
       "4  /e64sOI48hQXyru7naBFyssKFxVd.jpg   \n",
       "\n",
       "                                production_companies  \\\n",
       "0     [{'name': 'Pixar Animation Studios', 'id': 3}]   \n",
       "1  [{'name': 'TriStar Pictures', 'id': 559}, {'na...   \n",
       "2  [{'name': 'Warner Bros.', 'id': 6194}, {'name'...   \n",
       "3  [{'name': 'Twentieth Century Fox Film Corporat...   \n",
       "4  [{'name': 'Sandollar Productions', 'id': 5842}...   \n",
       "\n",
       "                                production_countries release_date  \\\n",
       "0  [{'iso_3166_1': 'US', 'name': 'United States o...     10/30/95   \n",
       "1  [{'iso_3166_1': 'US', 'name': 'United States o...     12/15/95   \n",
       "2  [{'iso_3166_1': 'US', 'name': 'United States o...     12/22/95   \n",
       "3  [{'iso_3166_1': 'US', 'name': 'United States o...     12/22/95   \n",
       "4  [{'iso_3166_1': 'US', 'name': 'United States o...      2/10/95   \n",
       "\n",
       "                         title  vote_average  vote_count  \\\n",
       "0                    Toy Story           7.7      5415.0   \n",
       "1                      Jumanji           6.9      2413.0   \n",
       "2             Grumpier Old Men           6.5        92.0   \n",
       "3            Waiting to Exhale           6.1        34.0   \n",
       "4  Father of the Bride Part II           5.7       173.0   \n",
       "\n",
       "                                    cleaned_keywords  \n",
       "0  jealousy, toy, boy, friendship, friends, rival...  \n",
       "1  board, game, disappearance, based, on, childre...  \n",
       "2  fishing, best, friend, duringcreditsstinger, o...  \n",
       "3  based, on, novel, interracial, relationship, s...  \n",
       "4  baby, midlife, crisis, confidence, aging, daug...  "
      ]
     },
     "execution_count": 4,
     "metadata": {},
     "output_type": "execute_result"
    }
   ],
   "source": [
    "#Examine the first fiver row to confirm successful read.\n",
    "movies_data.head()"
   ]
  },
  {
   "cell_type": "code",
   "execution_count": 5,
   "id": "66c15a2c",
   "metadata": {
    "scrolled": true
   },
   "outputs": [
    {
     "name": "stdout",
     "output_type": "stream",
     "text": [
      "<class 'pandas.core.frame.DataFrame'>\n",
      "RangeIndex: 45476 entries, 0 to 45475\n",
      "Data columns (total 20 columns):\n",
      " #   Column                    Non-Null Count  Dtype  \n",
      "---  ------                    --------------  -----  \n",
      " 0   index                     45476 non-null  int64  \n",
      " 1   cast_characters           45476 non-null  object \n",
      " 2   cast_credit_ids           45476 non-null  object \n",
      " 3   cast_profile_paths        45476 non-null  object \n",
      " 4   crew_director_names       45476 non-null  object \n",
      " 5   crew_executive_producers  45476 non-null  object \n",
      " 6   budget                    45466 non-null  object \n",
      " 7   genres                    45466 non-null  object \n",
      " 8   id                        45466 non-null  object \n",
      " 9   imdb_id                   45449 non-null  object \n",
      " 10  overview                  44512 non-null  object \n",
      " 11  popularity                45461 non-null  object \n",
      " 12  poster_path               45080 non-null  object \n",
      " 13  production_companies      45463 non-null  object \n",
      " 14  production_countries      45463 non-null  object \n",
      " 15  release_date              45379 non-null  object \n",
      " 16  title                     45460 non-null  object \n",
      " 17  vote_average              45460 non-null  float64\n",
      " 18  vote_count                45460 non-null  float64\n",
      " 19  cleaned_keywords          31211 non-null  object \n",
      "dtypes: float64(2), int64(1), object(17)\n",
      "memory usage: 6.9+ MB\n"
     ]
    }
   ],
   "source": [
    "#Check the data has been cleaned and check shape.\n",
    "movies_data.info()"
   ]
  },
  {
   "cell_type": "code",
   "execution_count": 6,
   "id": "b12f7132",
   "metadata": {},
   "outputs": [],
   "source": [
    "#Created a variable to hold the columns that determine the best values\n",
    "selected_features = ['genres', 'cast_characters', 'crew_director_names', 'crew_executive_producers', 'budget', 'overview', 'popularity', 'production_companies', 'release_date', 'cleaned_keywords']\n",
    "\n"
   ]
  },
  {
   "cell_type": "code",
   "execution_count": 7,
   "id": "92d220f1",
   "metadata": {},
   "outputs": [],
   "source": [
    "for feature in selected_features:\n",
    "    movies_data[feature] = movies_data[feature].fillna('')"
   ]
  },
  {
   "cell_type": "code",
   "execution_count": 8,
   "id": "14ef151e",
   "metadata": {},
   "outputs": [],
   "source": [
    "# Merge columns together to create a unique ID\n",
    "# Convert float columns to strings\n",
    "movies_data['budget'] = movies_data['budget'].astype(str)\n",
    "movies_data['popularity'] = movies_data['popularity'].astype(str)\n",
    "\n",
    "# Merge columns together to create a unique ID\n",
    "movie_database = movies_data['genres'] + movies_data['cast_characters'] + movies_data['crew_director_names'] + movies_data['crew_executive_producers'] + movies_data['budget'] + movies_data['overview'] + movies_data['popularity'] + movies_data['production_companies'] + movies_data['release_date'] + movies_data['cleaned_keywords']\n"
   ]
  },
  {
   "cell_type": "code",
   "execution_count": 19,
   "id": "1de10507",
   "metadata": {},
   "outputs": [
    {
     "name": "stdout",
     "output_type": "stream",
     "text": [
      "[\"[{'id': 16, 'name': 'Animation'}, {'id': 35, 'name': 'Comedy'}, {'id': 10751, 'name': 'Family'}]['Woody (voice)', 'Buzz Lightyear (voice)', 'Mr. Potato Head (voice)', 'Slinky Dog (voice)', 'Rex (voice)', 'Hamm (voice)', 'Bo Peep (voice)', 'Andy (voice)', 'Sid (voice)', 'Mrs. Davis (voice)', 'Sergeant (voice)', 'Hannah (voice)', 'TV Announcer (voice)']['John Lasseter']['Ed Catmull', 'Steve Jobs']30000000Led by Woody, Andy's toys live happily in his room until Andy's birthday brings Buzz Lightyear onto the scene. Afraid of losing his place in Andy's heart, Woody plots against Buzz. But when circumstances separate Buzz and Woody from their owner, the duo eventually learns to put aside their differences.21.946943[{'name': 'Pixar Animation Studios', 'id': 3}]10/30/95jealousy, toy, boy, friendship, friends, rivalry, boy, next, door, new, toy, toy, comes, to, life\"\n",
      " \"[{'id': 12, 'name': 'Adventure'}, {'id': 14, 'name': 'Fantasy'}, {'id': 10751, 'name': 'Family'}]['Alan Parrish', 'Samuel Alan Parrish / Van Pelt', 'Judy Sheperd', 'Peter Shepherd', 'Sarah Whittle', 'Nora Shepherd', 'Carl Bentley', 'Carol Anne Parrish', 'Alan Parrish (young)', 'Sarah Whittle (young)', 'Exterminator', 'Mrs. Thomas the Realtor', 'Benjamin', 'Caleb', 'Billy Jessup', 'Cop', 'Bum', 'Jim Shepherd', 'Martha Shepherd', 'Gun Salesman', 'Paramedic', 'Paramedic', 'Girl', 'Girl', 'Baker', 'Pianist']['Joe Johnston']['Larry J. Franco', 'Ted Field', 'Robert W. Cort']65000000When siblings Judy and Peter discover an enchanted board game that opens the door to a magical world, they unwittingly invite Alan -- an adult who's been trapped inside the game for 26 years -- into their living room. Alan's only hope for freedom is to finish the game, which proves risky as all three find themselves running from giant rhinoceroses, evil monkeys and other terrifying creatures.17.015539[{'name': 'TriStar Pictures', 'id': 559}, {'name': 'Teitler Film', 'id': 2550}, {'name': 'Interscope Communications', 'id': 10201}]12/15/95board, game, disappearance, based, on, children, s, book, new, home, recluse, giant, insect\"\n",
      " \"[{'id': 10749, 'name': 'Romance'}, {'id': 35, 'name': 'Comedy'}]['Max Goldman', 'John Gustafson', 'Ariel Gustafson', 'Maria Sophia Coletta Ragetti', 'Melanie Gustafson', 'Grandpa Gustafson', 'Jacob Goldman']['Howard Deutch'][]0A family wedding reignites the ancient feud between next-door neighbors and fishing buddies John and Max. Meanwhile, a sultry Italian divorcée opens a restaurant at the local bait shop, alarming the locals who worry she'll scare the fish away. But she's less interested in seafood than she is in cooking up a hot time with Max.11.7129[{'name': 'Warner Bros.', 'id': 6194}, {'name': 'Lancaster Gate', 'id': 19464}]12/22/95fishing, best, friend, duringcreditsstinger, old, men\"\n",
      " ...\n",
      " \"['Emily Shaw', 'Det. Mark Winston', 'Jayne Ferré', 'Alex Tyler', 'Tony', 'Frank Bianci', 'Detective Stan', 'Kerry Shaw', 'Peter Quinn', 'Boyd', 'Sammy Benetto', 'Steve', 'Fred', 'Artie, Hitman #1', 'Doorman']['Mark L. Lester'][]\"\n",
      " \"['', '', '', '', '']['Yakov Protazanov'][]\" \"[]['Daisy Asquith'][]\"]\n"
     ]
    }
   ],
   "source": [
    "print(movie_database.unique())"
   ]
  },
  {
   "cell_type": "code",
   "execution_count": 20,
   "id": "affee6dc",
   "metadata": {},
   "outputs": [
    {
     "name": "stdout",
     "output_type": "stream",
     "text": [
      "TfidfVectorizer()\n",
      "  (0, 112750)\t3.0312058380840863e-06\n",
      "  (0, 113966)\t3.0312058380840863e-06\n",
      "  (0, 254510)\t3.0312058380840863e-06\n",
      "  (0, 103035)\t3.0312058380840863e-06\n",
      "  (0, 206922)\t3.0312058380840863e-06\n",
      "  (0, 151554)\t3.0312058380840863e-06\n",
      "  (0, 166798)\t3.0312058380840863e-06\n",
      "  (0, 231528)\t3.0312058380840863e-06\n",
      "  (0, 137741)\t3.0312058380840863e-06\n",
      "  (0, 117960)\t3.0312058380840863e-06\n",
      "  (0, 197136)\t3.0312058380840863e-06\n",
      "  (0, 252969)\t3.0312058380840863e-06\n",
      "  (0, 138036)\t3.0312058380840863e-06\n",
      "  (0, 235576)\t3.0312058380840863e-06\n",
      "  (0, 268895)\t3.0312058380840863e-06\n",
      "  (0, 135108)\t3.0312058380840863e-06\n",
      "  (0, 211953)\t3.0312058380840863e-06\n",
      "  (0, 29501)\t3.0312058380840863e-06\n",
      "  (0, 135282)\t3.0312058380840863e-06\n",
      "  (0, 90659)\t3.0312058380840863e-06\n",
      "  (0, 270781)\t3.0312058380840863e-06\n",
      "  (0, 594)\t3.0312058380840863e-06\n",
      "  (0, 143277)\t3.0312058380840863e-06\n",
      "  (0, 178864)\t3.0312058380840863e-06\n",
      "  (0, 238503)\t3.0312058380840863e-06\n",
      "  :\t:\n",
      "  (0, 134719)\t0.0024219334646291848\n",
      "  (0, 203619)\t0.017450652009850083\n",
      "  (0, 240373)\t0.00063049081432149\n",
      "  (0, 104014)\t0.0020551575582210104\n",
      "  (0, 215664)\t7.274894011401808e-05\n",
      "  (0, 115782)\t0.000806300752930367\n",
      "  (0, 162748)\t8.184255762827032e-05\n",
      "  (0, 228565)\t0.0005243986099885469\n",
      "  (0, 139427)\t0.003646540623215156\n",
      "  (0, 242165)\t2.424964670467269e-05\n",
      "  (0, 164326)\t0.004358873995164916\n",
      "  (0, 220466)\t8.79049693044385e-05\n",
      "  (0, 203600)\t0.017153593837717845\n",
      "  (0, 188602)\t3.637447005700904e-05\n",
      "  (0, 120668)\t0.0003728383180843426\n",
      "  (0, 264879)\t0.04260359805427183\n",
      "  (0, 269222)\t0.0005001489632838742\n",
      "  (0, 147966)\t0.026201743264398843\n",
      "  (0, 18688)\t0.008396440171492919\n",
      "  (0, 129079)\t0.04726559263324515\n",
      "  (0, 47912)\t0.040572690142755496\n",
      "  (0, 104271)\t0.00827216073213147\n",
      "  (0, 205606)\t0.4920010819911042\n",
      "  (0, 29124)\t0.013137246102256429\n",
      "  (0, 169454)\t0.4900398918138638\n"
     ]
    }
   ],
   "source": [
    "#Convert the movie_database into a string of numbers\n",
    "# Convert the movie_database into a single string\n",
    "movie_database_string = ' '.join(movie_database.astype(str))\n",
    "\n",
    "# Initialize the TfidfVectorizer with the movie_database string\n",
    "vectorizer = TfidfVectorizer()\n",
    "feature_vectors = vectorizer.fit_transform([movie_database_string])\n",
    "\n",
    "print(vectorizer)\n",
    "print(feature_vectors)\n",
    "\n",
    "similarity = cosine_similarity(feature_vectors)\n",
    "\n"
   ]
  },
  {
   "cell_type": "code",
   "execution_count": 21,
   "id": "b65d060a",
   "metadata": {},
   "outputs": [],
   "source": [
    "#Create the similarity\n",
    "dense_feature_vectors = feature_vectors.toarray()\n",
    "\n",
    "# Calculate the cosine similarity\n",
    "similarity = cosine_similarity(dense_feature_vectors)"
   ]
  },
  {
   "cell_type": "code",
   "execution_count": 22,
   "id": "b1d9aeb2",
   "metadata": {},
   "outputs": [
    {
     "name": "stdout",
     "output_type": "stream",
     "text": [
      "[[1.]]\n"
     ]
    }
   ],
   "source": [
    "#Check the similarity\n",
    "print(similarity)"
   ]
  },
  {
   "cell_type": "code",
   "execution_count": null,
   "id": "6bfd8d4d",
   "metadata": {},
   "outputs": [],
   "source": [
    "#Holding the place for the variable in the html input\n",
    "movie_title = input(\"What is your favorite movie: \")"
   ]
  },
  {
   "cell_type": "code",
   "execution_count": null,
   "id": "d6b50a54",
   "metadata": {},
   "outputs": [],
   "source": [
    "#Create a list of titles to pair to the features down the road\n",
    "list_of_titles = movies_data['title'].tolist()\n",
    "print(list_of_titles)"
   ]
  },
  {
   "cell_type": "code",
   "execution_count": null,
   "id": "c565a4f9",
   "metadata": {},
   "outputs": [],
   "source": [
    "#Compare input to the library\n",
    "list_of_titles = [str(title) for title in list_of_titles]\n",
    "find_match = difflib.get_close_matches(movie_title, list_of_titles)\n",
    "print(find_match)\n"
   ]
  },
  {
   "cell_type": "code",
   "execution_count": null,
   "id": "5e620515",
   "metadata": {},
   "outputs": [],
   "source": [
    "#Define what would be a close match\n",
    "close_match = find_match[0]\n",
    "print(close_match)"
   ]
  },
  {
   "cell_type": "code",
   "execution_count": null,
   "id": "7df12ab2",
   "metadata": {},
   "outputs": [],
   "source": [
    "index_of_the_movie = movies_data[movies_data['title'] == close_match].index[0]\n",
    "print(index_of_the_movie)\n"
   ]
  },
  {
   "cell_type": "code",
   "execution_count": null,
   "id": "1a800008",
   "metadata": {},
   "outputs": [],
   "source": [
    "## Create the similarity score\n",
    "similarity_score = list(enumerate(similarity[index_of_the_movie]))\n",
    "print(similarity_score)\n"
   ]
  },
  {
   "cell_type": "code",
   "execution_count": null,
   "id": "5a36678d",
   "metadata": {},
   "outputs": [],
   "source": [
    "#Check length of score to confirm uniqueness\n",
    "len(similarity_score)"
   ]
  },
  {
   "cell_type": "code",
   "execution_count": null,
   "id": "ac52c1f2",
   "metadata": {},
   "outputs": [],
   "source": [
    "#Sort the movies to similarity_score\n",
    "sorted_similar_movies = sorted(similarity_score, key=lambda x: x[1], reverse=True)\n"
   ]
  },
  {
   "cell_type": "code",
   "execution_count": null,
   "id": "0627ed5d",
   "metadata": {},
   "outputs": [],
   "source": [
    "#Convert index to similar movies and loop to find matches\n",
    "print('Movies suggested for you : \\n')\n",
    "\n",
    "i = 1\n",
    "\n",
    "for movie in sorted_similar_movies:\n",
    "    index = movie[0]\n",
    "    title_from_index = movies_data[movies_data.title ==index]['title'].values[0]\n",
    "    if(i<30):\n",
    "        print(i, '.', title_from_index)\n",
    "        i+=1\n"
   ]
  },
  {
   "cell_type": "code",
   "execution_count": null,
   "id": "dc4747b5",
   "metadata": {},
   "outputs": [],
   "source": []
  }
 ],
 "metadata": {
  "kernelspec": {
   "display_name": "PythonData",
   "language": "python",
   "name": "pythondata"
  },
  "language_info": {
   "codemirror_mode": {
    "name": "ipython",
    "version": 3
   },
   "file_extension": ".py",
   "mimetype": "text/x-python",
   "name": "python",
   "nbconvert_exporter": "python",
   "pygments_lexer": "ipython3",
   "version": "3.7.7"
  }
 },
 "nbformat": 4,
 "nbformat_minor": 5
}
